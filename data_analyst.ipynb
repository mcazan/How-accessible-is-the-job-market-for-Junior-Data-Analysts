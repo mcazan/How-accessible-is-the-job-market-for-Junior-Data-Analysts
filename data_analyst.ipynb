{
 "cells": [
  {
   "cell_type": "markdown",
   "id": "cd2de695-17e3-4b08-8b26-cee941fbfebb",
   "metadata": {
    "tags": []
   },
   "source": [
    "## Data loading"
   ]
  },
  {
   "cell_type": "code",
   "execution_count": 104,
   "id": "1a70f116-daab-4f10-90fa-62d3a5eb004c",
   "metadata": {},
   "outputs": [],
   "source": [
    "import csv\n",
    "file = open('DataAnalyst.csv', encoding=\"utf8\")\n",
    "file_reader = csv.DictReader(file)\n",
    "data = []\n",
    "for row in file_reader:\n",
    "    data.append(row)    \n",
    "file.close()"
   ]
  },
  {
   "cell_type": "code",
   "execution_count": 105,
   "id": "59b944a9-eba0-4a15-bdaa-7580cfca18ee",
   "metadata": {},
   "outputs": [],
   "source": [
    "def print_no_job_description(data):\n",
    "    for i in range(0, 10):\n",
    "        row = data[i]\n",
    "        for key in row:\n",
    "            if key != 'Job Description':\n",
    "                print(str(key) + ':' + str(row[key]))\n",
    "        print('\\n')    "
   ]
  },
  {
   "cell_type": "markdown",
   "id": "cb5625aa-f40e-4357-a9db-6c51d4962c68",
   "metadata": {},
   "source": [
    "## Data cleaning"
   ]
  },
  {
   "cell_type": "code",
   "execution_count": 106,
   "id": "de65daaa-8afe-43ac-acd9-7eadc6ed37a7",
   "metadata": {},
   "outputs": [],
   "source": [
    "def remove_duplicates(data):\n",
    "    unique = []\n",
    "    for row in data:\n",
    "        if row not in unique:\n",
    "            unique.append(row)\n",
    "    return unique        "
   ]
  },
  {
   "cell_type": "code",
   "execution_count": 107,
   "id": "d9a29d08-04c4-4d65-b6be-637a454905f2",
   "metadata": {},
   "outputs": [
    {
     "name": "stdout",
     "output_type": "stream",
     "text": [
      "2253\n",
      "2253\n"
     ]
    }
   ],
   "source": [
    "print(len(data))\n",
    "data = remove_duplicates(data)\n",
    "print(len(data))"
   ]
  },
  {
   "cell_type": "markdown",
   "id": "38aa98bd-df77-48de-996c-56f53e120d47",
   "metadata": {},
   "source": [
    "## Check column headers"
   ]
  },
  {
   "cell_type": "code",
   "execution_count": 108,
   "id": "2c93cd06-1730-48ac-805e-bae1d2bc841f",
   "metadata": {},
   "outputs": [],
   "source": [
    "def get_all_headers(data):\n",
    "    list_of_keys = set()\n",
    "    for dictionary in data:\n",
    "        list_of_keys.update(dictionary.keys())\n",
    "    return list_of_keys"
   ]
  },
  {
   "cell_type": "code",
   "execution_count": 109,
   "id": "eec92404-813b-4337-b4db-acf15eeec8df",
   "metadata": {},
   "outputs": [
    {
     "data": {
      "text/plain": [
       "{' ',\n",
       " 'Company Name',\n",
       " 'Competitors',\n",
       " 'Easy Apply',\n",
       " 'Founded',\n",
       " 'Headquarters',\n",
       " 'Industry',\n",
       " 'Job Description',\n",
       " 'Job Title',\n",
       " 'Location',\n",
       " 'Rating',\n",
       " 'Revenue',\n",
       " 'Salary Estimate',\n",
       " 'Sector',\n",
       " 'Size',\n",
       " 'Type of ownership'}"
      ]
     },
     "execution_count": 109,
     "metadata": {},
     "output_type": "execute_result"
    }
   ],
   "source": [
    "get_all_headers(data)"
   ]
  },
  {
   "cell_type": "markdown",
   "id": "fe1d9b5a-aa52-41c9-873a-564872a28851",
   "metadata": {},
   "source": [
    "## Fix empty headers"
   ]
  },
  {
   "cell_type": "code",
   "execution_count": 110,
   "id": "0753027c-c37e-41f9-9b05-6f34f7ad1d3a",
   "metadata": {},
   "outputs": [],
   "source": [
    "def rename_empty_header(data, old_header, replacement_header):\n",
    "    for row in data:\n",
    "        row[replacement_header] = row[old_header]       \n",
    "        del row[old_header]       "
   ]
  },
  {
   "cell_type": "code",
   "execution_count": 111,
   "id": "6e0b8f43-3f3b-41f4-8ffb-72d0d5f24f0d",
   "metadata": {},
   "outputs": [],
   "source": [
    "rename_empty_header(data, ' ', 'Index')"
   ]
  },
  {
   "cell_type": "code",
   "execution_count": 112,
   "id": "700628d0-0195-4b30-a5dd-3d773011d737",
   "metadata": {},
   "outputs": [
    {
     "data": {
      "text/plain": [
       "{'Company Name',\n",
       " 'Competitors',\n",
       " 'Easy Apply',\n",
       " 'Founded',\n",
       " 'Headquarters',\n",
       " 'Index',\n",
       " 'Industry',\n",
       " 'Job Description',\n",
       " 'Job Title',\n",
       " 'Location',\n",
       " 'Rating',\n",
       " 'Revenue',\n",
       " 'Salary Estimate',\n",
       " 'Sector',\n",
       " 'Size',\n",
       " 'Type of ownership'}"
      ]
     },
     "execution_count": 112,
     "metadata": {},
     "output_type": "execute_result"
    }
   ],
   "source": [
    "get_all_headers(data)"
   ]
  },
  {
   "cell_type": "markdown",
   "id": "b70929e5-15eb-47a1-a6b4-be68ab3e8283",
   "metadata": {},
   "source": [
    "## Fix invalid values"
   ]
  },
  {
   "cell_type": "code",
   "execution_count": 113,
   "id": "44907b64-54b8-4fc7-8645-5b9c4afa8813",
   "metadata": {},
   "outputs": [],
   "source": [
    "# invalid values means None, empty string or -1\n",
    "def count_invalid_values_for_column(data, col):\n",
    "    count_invalid_data = 0 \n",
    "    for row in data:\n",
    "        if col not in row:\n",
    "            continue\n",
    "        value = row[col]\n",
    "        if value == None or value == '' or value == '-1':\n",
    "            count_invalid_data += 1\n",
    "    return count_invalid_data       "
   ]
  },
  {
   "cell_type": "code",
   "execution_count": 114,
   "id": "383c00b7-ea03-4d51-a7f2-89d5a96f9a25",
   "metadata": {},
   "outputs": [],
   "source": [
    "def count_invalid_data(data):\n",
    "    all_headers = get_all_headers(data)\n",
    "    invalid_values_per_column = {}\n",
    "    for header in all_headers:\n",
    "        invalid_values_per_column[header] = count_invalid_values_for_column(data, header)\n",
    "    return invalid_values_per_column"
   ]
  },
  {
   "cell_type": "code",
   "execution_count": 115,
   "id": "9c00b42c-6314-4049-9f77-bed7782bf61f",
   "metadata": {},
   "outputs": [
    {
     "data": {
      "text/plain": [
       "{'Easy Apply': 2173,\n",
       " 'Industry': 353,\n",
       " 'Revenue': 163,\n",
       " 'Company Name': 1,\n",
       " 'Location': 0,\n",
       " 'Size': 163,\n",
       " 'Sector': 353,\n",
       " 'Competitors': 1732,\n",
       " 'Index': 0,\n",
       " 'Type of ownership': 163,\n",
       " 'Job Title': 0,\n",
       " 'Founded': 660,\n",
       " 'Salary Estimate': 1,\n",
       " 'Rating': 272,\n",
       " 'Job Description': 0,\n",
       " 'Headquarters': 172}"
      ]
     },
     "execution_count": 115,
     "metadata": {},
     "output_type": "execute_result"
    }
   ],
   "source": [
    "count_invalid_data(data)"
   ]
  },
  {
   "cell_type": "markdown",
   "id": "3e291ad0-852b-4977-9960-a33c63933082",
   "metadata": {},
   "source": [
    "## Ensure consistent naming for invalid values"
   ]
  },
  {
   "cell_type": "code",
   "execution_count": 116,
   "id": "cc46b045-30b2-4191-af5c-7cfaf840f885",
   "metadata": {},
   "outputs": [],
   "source": [
    "def find_unique_values_for_column(data, col):\n",
    "    list_of_values = set()\n",
    "    for row in data:\n",
    "        if col not in row:\n",
    "            continue\n",
    "        list_of_values.add(row[col])\n",
    "    return list_of_values"
   ]
  },
  {
   "cell_type": "code",
   "execution_count": 117,
   "id": "796df044-2f80-488b-b663-492c7fa06cd0",
   "metadata": {},
   "outputs": [
    {
     "data": {
      "text/plain": [
       "{'-1', 'True'}"
      ]
     },
     "execution_count": 117,
     "metadata": {},
     "output_type": "execute_result"
    }
   ],
   "source": [
    "find_unique_values_for_column(data, 'Easy Apply')"
   ]
  },
  {
   "cell_type": "code",
   "execution_count": 118,
   "id": "236bec4e-6536-4ec9-a6d7-e5b550203147",
   "metadata": {},
   "outputs": [],
   "source": [
    "def replace_specific_value_with_specified(data, col, old_value, new_value):\n",
    "    cleaned_data = data.copy()\n",
    "    for dictionary in cleaned_data:\n",
    "        if col not in row:\n",
    "            continue\n",
    "        if dictionary[col] == old_value:\n",
    "            dictionary[col] = new_value           \n",
    "    return cleaned_data        "
   ]
  },
  {
   "cell_type": "code",
   "execution_count": 119,
   "id": "fd45a794-71e8-4cb8-9b84-cfa198310adb",
   "metadata": {},
   "outputs": [],
   "source": [
    "data = replace_specific_value_with_specified(data, 'Easy Apply', '-1', 'NA')"
   ]
  },
  {
   "cell_type": "code",
   "execution_count": 120,
   "id": "29f786ab-4f16-4559-92a7-d92e0d628b25",
   "metadata": {},
   "outputs": [],
   "source": [
    "data = replace_specific_value_with_specified(data, 'Competitors', '-1', 'NA')"
   ]
  },
  {
   "cell_type": "code",
   "execution_count": 121,
   "id": "15ca83a3-1df6-4c97-a60b-9589f096474d",
   "metadata": {},
   "outputs": [],
   "source": [
    "data = replace_specific_value_with_specified(data, 'Rating', '-1', 'NA')"
   ]
  },
  {
   "cell_type": "code",
   "execution_count": 122,
   "id": "daeb1af2-7a60-4f8e-85a3-d765a162a1cc",
   "metadata": {},
   "outputs": [],
   "source": [
    "data = replace_specific_value_with_specified(data, 'Headquarters', '-1', 'NA')"
   ]
  },
  {
   "cell_type": "code",
   "execution_count": 123,
   "id": "b4b9e5a9-1884-4a64-b480-28f771089b50",
   "metadata": {},
   "outputs": [],
   "source": [
    "data = replace_specific_value_with_specified(data, 'Industry', '-1', 'NA')"
   ]
  },
  {
   "cell_type": "code",
   "execution_count": 124,
   "id": "47c90ceb-7c22-40e0-850e-b77fc334ac16",
   "metadata": {},
   "outputs": [],
   "source": [
    "data = replace_specific_value_with_specified(data, 'Type of ownership', '-1', 'NA')"
   ]
  },
  {
   "cell_type": "code",
   "execution_count": 125,
   "id": "8e830575-fc03-4431-9a42-f273d02eec11",
   "metadata": {},
   "outputs": [],
   "source": [
    "data = replace_specific_value_with_specified(data, 'Type of ownership', 'Unknown', 'NA')"
   ]
  },
  {
   "cell_type": "code",
   "execution_count": 126,
   "id": "e254ca53-b023-41f3-a40e-025abddb63b1",
   "metadata": {},
   "outputs": [],
   "source": [
    "data = replace_specific_value_with_specified(data, 'Company Name', '', 'NA')"
   ]
  },
  {
   "cell_type": "code",
   "execution_count": 127,
   "id": "ae5b77e3-6677-4a8f-8efe-1c1e56f0c0e9",
   "metadata": {},
   "outputs": [],
   "source": [
    "data = replace_specific_value_with_specified(data, 'Salary Estimate', '-1', 'NA')"
   ]
  },
  {
   "cell_type": "code",
   "execution_count": 128,
   "id": "3447f489-e821-40bf-a552-6aa3217f2b07",
   "metadata": {},
   "outputs": [],
   "source": [
    "data = replace_specific_value_with_specified(data, 'Founded', '-1', 'NA')"
   ]
  },
  {
   "cell_type": "code",
   "execution_count": 129,
   "id": "4adbc6d5-7034-4655-9fab-4aef6744cfd0",
   "metadata": {},
   "outputs": [],
   "source": [
    "data = replace_specific_value_with_specified(data, 'Sector', '-1', 'NA')"
   ]
  },
  {
   "cell_type": "code",
   "execution_count": 130,
   "id": "d8b45a48-96ca-4b64-b932-46c6490ff3c8",
   "metadata": {},
   "outputs": [],
   "source": [
    "data = replace_specific_value_with_specified(data, 'Revenue', '-1', 'NA')"
   ]
  },
  {
   "cell_type": "code",
   "execution_count": 131,
   "id": "e1b90d68-fea7-4336-8dd7-80c84703df9a",
   "metadata": {},
   "outputs": [],
   "source": [
    "data = replace_specific_value_with_specified(data, 'Revenue', 'Unknown / Non-Applicable', 'NA')"
   ]
  },
  {
   "cell_type": "code",
   "execution_count": 132,
   "id": "983c8e0c-f8e5-43d8-b91c-a74904ae9d85",
   "metadata": {},
   "outputs": [],
   "source": [
    "data = replace_specific_value_with_specified(data, 'Size', '-1', 'NA')"
   ]
  },
  {
   "cell_type": "code",
   "execution_count": 133,
   "id": "b63af446-9a68-4f19-9ed7-c7218592b5dd",
   "metadata": {},
   "outputs": [],
   "source": [
    "data = replace_specific_value_with_specified(data, 'Size', 'Unknown', 'NA')"
   ]
  },
  {
   "cell_type": "code",
   "execution_count": 134,
   "id": "5a77afa8-331b-4116-95cb-60330f1e9f06",
   "metadata": {},
   "outputs": [],
   "source": [
    "def count_NA_values_for_specified_column(data, col):\n",
    "    count_invalid_data = 0 \n",
    "    for row in data:\n",
    "        if col not in row:\n",
    "            continue\n",
    "        if row[col] == 'NA':\n",
    "            count_invalid_data += 1\n",
    "    return count_invalid_data       "
   ]
  },
  {
   "cell_type": "code",
   "execution_count": 135,
   "id": "39c0a301-a278-4fed-aa77-e08de9c8a99e",
   "metadata": {
    "tags": []
   },
   "outputs": [],
   "source": [
    "def count_NA_values(data):\n",
    "    all_headers = get_all_headers(data)\n",
    "    NA_values_per_column = {}\n",
    "    for header in all_headers:\n",
    "        NA_values_per_column[header] = count_NA_values_for_specified_column(data, header)\n",
    "    return NA_values_per_column"
   ]
  },
  {
   "cell_type": "code",
   "execution_count": 136,
   "id": "2d94d9ee-986f-4246-9842-087bfc9c7a71",
   "metadata": {},
   "outputs": [
    {
     "data": {
      "text/plain": [
       "{'Easy Apply': 2173,\n",
       " 'Industry': 353,\n",
       " 'Revenue': 778,\n",
       " 'Company Name': 1,\n",
       " 'Location': 0,\n",
       " 'Size': 205,\n",
       " 'Sector': 353,\n",
       " 'Competitors': 1732,\n",
       " 'Index': 0,\n",
       " 'Type of ownership': 179,\n",
       " 'Job Title': 0,\n",
       " 'Founded': 660,\n",
       " 'Salary Estimate': 1,\n",
       " 'Rating': 272,\n",
       " 'Job Description': 0,\n",
       " 'Headquarters': 172}"
      ]
     },
     "execution_count": 136,
     "metadata": {},
     "output_type": "execute_result"
    }
   ],
   "source": [
    "count_NA_values(data)"
   ]
  },
  {
   "cell_type": "markdown",
   "id": "2de041cd-17e3-4468-b78b-0155b1840c01",
   "metadata": {},
   "source": [
    "## Clean Company Name column"
   ]
  },
  {
   "cell_type": "code",
   "execution_count": 137,
   "id": "6d1cefce-869f-409d-b9b9-c51e331e2b1c",
   "metadata": {
    "tags": []
   },
   "outputs": [],
   "source": [
    "comp = find_unique_values_for_column(data, 'Company Name')"
   ]
  },
  {
   "cell_type": "code",
   "execution_count": 138,
   "id": "f7445279-a0e5-4915-84bc-12e50e6d45fc",
   "metadata": {},
   "outputs": [],
   "source": [
    "# remove rating from clumn 'Company Name'\n",
    "def clean_column_company_name(data):\n",
    "    cleaned_data = data.copy()\n",
    "    key = 'Company Name'\n",
    "    for row in cleaned_data:\n",
    "        if key not in row:\n",
    "            continue\n",
    "        parts = str(row[key]).split('\\n')\n",
    "        row[key] = parts[0].strip()    \n",
    "    return cleaned_data   "
   ]
  },
  {
   "cell_type": "code",
   "execution_count": 139,
   "id": "fd7753b0-edec-4e7d-be9d-98ccac6c2406",
   "metadata": {},
   "outputs": [],
   "source": [
    "data = clean_column_company_name(data)"
   ]
  },
  {
   "cell_type": "code",
   "execution_count": 140,
   "id": "3ef846b8-cb9e-4d6b-9a2b-5606f1edc23a",
   "metadata": {},
   "outputs": [],
   "source": [
    "comp = find_unique_values_for_column(data, 'Company Name')"
   ]
  },
  {
   "cell_type": "markdown",
   "id": "45ee2a6c-1fdd-4560-906e-4e84d40100b9",
   "metadata": {},
   "source": [
    "## Clean Size column"
   ]
  },
  {
   "cell_type": "code",
   "execution_count": 141,
   "id": "53a4374c-4327-4eab-8e24-f9ccc5177f07",
   "metadata": {},
   "outputs": [
    {
     "data": {
      "text/plain": [
       "{'1 to 50 employees',\n",
       " '10000+ employees',\n",
       " '1001 to 5000 employees',\n",
       " '201 to 500 employees',\n",
       " '5001 to 10000 employees',\n",
       " '501 to 1000 employees',\n",
       " '51 to 200 employees',\n",
       " 'NA'}"
      ]
     },
     "execution_count": 141,
     "metadata": {},
     "output_type": "execute_result"
    }
   ],
   "source": [
    "find_unique_values_for_column(data, 'Size')"
   ]
  },
  {
   "cell_type": "code",
   "execution_count": 142,
   "id": "5de12144-f5a0-4729-bf54-7ec5443e196e",
   "metadata": {},
   "outputs": [],
   "source": [
    "import re\n",
    "def extract_max_no_of_employees(data):\n",
    "    cleaned_data = data.copy()\n",
    "    key = 'Size'\n",
    "    new_key = 'Max size'\n",
    "    for row in cleaned_data:\n",
    "        if key not in row:\n",
    "            continue\n",
    "        if '10000+' in row[key]:\n",
    "            row[new_key] = 10000\n",
    "        else: \n",
    "            value = re.search(r'(\\d+)(\\sto\\s)*(\\d*)(.*)', row[key], re.IGNORECASE)\n",
    "            if value:    \n",
    "                row[new_key] = int(value.group(3))    \n",
    "            else:\n",
    "                row[new_key] = 'NA'\n",
    "    return cleaned_data"
   ]
  },
  {
   "cell_type": "code",
   "execution_count": 143,
   "id": "182d9485-f0d3-4637-af3c-4fbbc9362660",
   "metadata": {},
   "outputs": [],
   "source": [
    "data = extract_max_no_of_employees(data)"
   ]
  },
  {
   "cell_type": "code",
   "execution_count": 144,
   "id": "b2979570-37da-4188-bcd4-cac7373327ca",
   "metadata": {},
   "outputs": [
    {
     "data": {
      "text/plain": [
       "set()"
      ]
     },
     "execution_count": 144,
     "metadata": {},
     "output_type": "execute_result"
    }
   ],
   "source": [
    "find_unique_values_for_column(data, 'Max Size')"
   ]
  },
  {
   "cell_type": "markdown",
   "id": "155a3472-d635-45b1-953f-c3e000240f5a",
   "metadata": {},
   "source": [
    "## Extract min and max salary and calculate average salary"
   ]
  },
  {
   "cell_type": "code",
   "execution_count": 146,
   "id": "929c3129-6180-4e7a-90e6-0f30b9b0bdda",
   "metadata": {},
   "outputs": [],
   "source": [
    "import re\n",
    "def extract_min_and_max_salary_as_new_columns(data):\n",
    "    key = 'Salary Estimate'\n",
    "    for row in data:\n",
    "        if key not in row:\n",
    "            continue\n",
    "        value = re.search(r\"\\$(\\d+)(.*)\\$(\\d+)(.*)\", row[key], re.IGNORECASE)\n",
    "        if value:\n",
    "            row['Min salary'] = int(value.group(1))\n",
    "            row['Max salary'] = int(value.group(3))\n",
    "    return data  "
   ]
  },
  {
   "cell_type": "code",
   "execution_count": 147,
   "id": "9560241c-d182-49b9-a146-2d3094e38875",
   "metadata": {},
   "outputs": [],
   "source": [
    "data = extract_min_and_max_salary_as_new_columns(data)"
   ]
  },
  {
   "cell_type": "code",
   "execution_count": 148,
   "id": "edcd05ef-ac89-43e0-8080-b928710ba337",
   "metadata": {},
   "outputs": [],
   "source": [
    "def calculate_average_salary_as_new_column(data):\n",
    "    cleaned_data = data.copy()\n",
    "    for row in cleaned_data:\n",
    "        if 'Min salary' not in row or 'Max salary' not in row:\n",
    "            continue\n",
    "        row['Average salary'] = (row['Min salary'] + row['Max salary'])/2\n",
    "    return cleaned_data            "
   ]
  },
  {
   "cell_type": "code",
   "execution_count": 149,
   "id": "0cf15680-1c1a-4f8f-baf2-a1e03d913ae2",
   "metadata": {},
   "outputs": [],
   "source": [
    "data = calculate_average_salary_as_new_column(data)"
   ]
  },
  {
   "cell_type": "markdown",
   "id": "4bd99a71-8a41-4fba-90a1-2f3d56d36708",
   "metadata": {},
   "source": [
    "## Make job titles more consistent"
   ]
  },
  {
   "cell_type": "code",
   "execution_count": 151,
   "id": "e1b5ce48-4301-471d-8ba2-1de848a9ca54",
   "metadata": {},
   "outputs": [],
   "source": [
    "def replace_job_title_with_consistent_naming(data, col, value_to_replace, new_value):\n",
    "    cleaned_data = data.copy()\n",
    "    for dictionary in cleaned_data:\n",
    "        for key, value in list(dictionary.items()):\n",
    "            if key == col:\n",
    "                value = str(value).replace(value_to_replace, new_value)\n",
    "                dictionary[key] = value     "
   ]
  },
  {
   "cell_type": "code",
   "execution_count": 152,
   "id": "0f0996f2-21d1-437e-96d5-a421aefc3a50",
   "metadata": {
    "tags": []
   },
   "outputs": [],
   "source": [
    "replace_job_title_with_consistent_naming(data, 'Job Title', 'Entry Level / Junior Data Analyst', 'Junior Data Analyst')"
   ]
  },
  {
   "cell_type": "code",
   "execution_count": 153,
   "id": "2722a474-5ed5-460f-86ba-7494898a1951",
   "metadata": {},
   "outputs": [],
   "source": [
    "replace_job_title_with_consistent_naming(data, 'Job Title', 'Data Analyst â Junior', 'Junior Data Analyst')"
   ]
  },
  {
   "cell_type": "code",
   "execution_count": 154,
   "id": "b3ff65a3-3491-4abd-826b-4b58705d053a",
   "metadata": {},
   "outputs": [],
   "source": [
    "replace_job_title_with_consistent_naming(data, 'Job Title', 'Entry-Level Data Analyst', 'Junior Data Analyst')"
   ]
  },
  {
   "cell_type": "code",
   "execution_count": 155,
   "id": "35398e12-58dd-4cdf-a072-ff6d7060463f",
   "metadata": {},
   "outputs": [],
   "source": [
    "replace_job_title_with_consistent_naming(data, 'Job Title', 'Entry Level Data Analyst', 'Junior Data Analyst')"
   ]
  },
  {
   "cell_type": "code",
   "execution_count": 156,
   "id": "5142a67c-c5de-4066-85b9-39a110cb12e2",
   "metadata": {
    "tags": []
   },
   "outputs": [],
   "source": [
    "replace_job_title_with_consistent_naming(data, 'Job Title', 'Data Analyst Entry Level', 'Junior Data Analyst')"
   ]
  },
  {
   "cell_type": "code",
   "execution_count": 157,
   "id": "fe724575-df1c-4d73-bb1a-be75dc5f603b",
   "metadata": {
    "tags": []
   },
   "outputs": [],
   "source": [
    "replace_job_title_with_consistent_naming(data, 'Job Title', 'Jr. Data Analyst', 'Junior Data Analyst')"
   ]
  },
  {
   "cell_type": "code",
   "execution_count": 158,
   "id": "6f077909-39a6-442e-ae1d-d896cfc810d2",
   "metadata": {
    "tags": []
   },
   "outputs": [],
   "source": [
    "replace_job_title_with_consistent_naming(data, 'Job Title', 'Jr Data Analyst', 'Junior Data Analyst')"
   ]
  },
  {
   "cell_type": "code",
   "execution_count": 159,
   "id": "cbe041bb-e833-4603-af4c-708338ff77b6",
   "metadata": {},
   "outputs": [],
   "source": [
    "replace_job_title_with_consistent_naming(data, 'Job Title', 'Data Analyst Junior', 'Junior Data Analyst')"
   ]
  },
  {
   "cell_type": "code",
   "execution_count": 160,
   "id": "250e03dc-8b73-41c2-9116-7811c653bb29",
   "metadata": {},
   "outputs": [],
   "source": [
    "replace_job_title_with_consistent_naming(data, 'Job Title', 'Sr Data Analyst', 'Senior Data Analyst')"
   ]
  },
  {
   "cell_type": "code",
   "execution_count": 161,
   "id": "b80ec676-4e5b-4341-98c6-e1e0da724fce",
   "metadata": {},
   "outputs": [],
   "source": [
    "replace_job_title_with_consistent_naming(data, 'Job Title', 'Sr. Data Analyst', 'Senior Data Analyst')"
   ]
  },
  {
   "cell_type": "code",
   "execution_count": 162,
   "id": "3913eb2b-60bb-4ed2-871a-423edd8f2e5c",
   "metadata": {},
   "outputs": [],
   "source": [
    "replace_job_title_with_consistent_naming(data, 'Job Title', 'Data Analyst Senior', 'Senior Data Analyst')"
   ]
  },
  {
   "cell_type": "code",
   "execution_count": 163,
   "id": "b5b1d1af-cc34-4656-a689-acc58e063fe4",
   "metadata": {},
   "outputs": [],
   "source": [
    "replace_job_title_with_consistent_naming(data, 'Job Title', 'DATA ANALYST', 'Data Analyst')"
   ]
  },
  {
   "cell_type": "code",
   "execution_count": 164,
   "id": "3b3807e3-a494-4233-a798-2ad59027aef7",
   "metadata": {},
   "outputs": [],
   "source": [
    "replace_job_title_with_consistent_naming(data, 'Job Title', 'Sr.', 'Senior')"
   ]
  },
  {
   "cell_type": "code",
   "execution_count": 165,
   "id": "5ba9fdff-6bbc-45ca-9c72-bc8e63220ec1",
   "metadata": {},
   "outputs": [],
   "source": [
    "replace_job_title_with_consistent_naming(data, 'Job Title', 'Sr', 'Senior')"
   ]
  },
  {
   "cell_type": "code",
   "execution_count": 166,
   "id": "660de79d-d55f-48f4-94f5-e6ca22d27704",
   "metadata": {},
   "outputs": [],
   "source": [
    "replace_job_title_with_consistent_naming(data, 'Job Title', 'SR.', 'Senior')"
   ]
  },
  {
   "cell_type": "code",
   "execution_count": 167,
   "id": "0f8706df-f6e9-42bd-bd91-827e6537f999",
   "metadata": {},
   "outputs": [],
   "source": [
    "replace_job_title_with_consistent_naming(data, 'Job Title', 'SR', 'Senior')"
   ]
  },
  {
   "cell_type": "code",
   "execution_count": 168,
   "id": "9dfbfcfd-58a7-41c4-81ad-5eddfd39e7ae",
   "metadata": {},
   "outputs": [],
   "source": [
    "replace_job_title_with_consistent_naming(data, 'Job Title', 'Jr', 'Junior')"
   ]
  },
  {
   "cell_type": "code",
   "execution_count": 169,
   "id": "6e2c012e-b7f7-480f-9fa7-3b1bf25202f4",
   "metadata": {},
   "outputs": [],
   "source": [
    "replace_job_title_with_consistent_naming(data, 'Job Title', 'Jr.', 'Junior')"
   ]
  },
  {
   "cell_type": "code",
   "execution_count": 170,
   "id": "c9da7a84-ba90-4043-977b-33b39d1d98ca",
   "metadata": {},
   "outputs": [],
   "source": [
    "replace_job_title_with_consistent_naming(data, 'Job Title', 'JR.', 'Junior')"
   ]
  },
  {
   "cell_type": "code",
   "execution_count": 171,
   "id": "7697a4df-f660-4179-beab-c4967de04f04",
   "metadata": {},
   "outputs": [],
   "source": [
    "replace_job_title_with_consistent_naming(data, 'Job Title', 'JR', 'Junior')"
   ]
  },
  {
   "cell_type": "markdown",
   "id": "049ef20e-9fb0-4ad7-9ede-0c9184a5c115",
   "metadata": {},
   "source": [
    "## Extract seniority level"
   ]
  },
  {
   "cell_type": "code",
   "execution_count": 172,
   "id": "4cd36be3-e50f-42ad-8a3c-c3ef3e12031b",
   "metadata": {},
   "outputs": [],
   "source": [
    "jobs = find_unique_values_for_column(data, 'Job Title')"
   ]
  },
  {
   "cell_type": "code",
   "execution_count": 175,
   "id": "11dc1448-b8d9-46c9-b83c-5a4accab7c47",
   "metadata": {},
   "outputs": [],
   "source": [
    "import re\n",
    "def extract_keyword_as_column(data, col, pattern, new_header):\n",
    "    cleaned_data = data.copy()\n",
    "    for row in cleaned_data:\n",
    "        if re.search(pattern, row[col], re.IGNORECASE):\n",
    "            row[new_header] = True\n",
    "        else:\n",
    "            row[new_header] = False\n",
    "    return cleaned_data        "
   ]
  },
  {
   "cell_type": "code",
   "execution_count": 176,
   "id": "eb1267e3-8b00-42bc-9136-59c6e9d6aab1",
   "metadata": {},
   "outputs": [],
   "source": [
    "def extract_seniority_as_column(data, col):\n",
    "    seniority_keywords = {'Junior level':'[\\W*]Junior|Jr|Entry[\\s-]level|Intern[\\W*]', 'Senior level':'[\\W*]Senior|Sr[\\W*]','Lead level':'[\\W*]Lead|Principal[\\W*]'}\n",
    "    for new_header, pattern in seniority_keywords.items():\n",
    "        data = extract_keyword_as_column(data, col, pattern, new_header)\n",
    "    return data   "
   ]
  },
  {
   "cell_type": "code",
   "execution_count": 177,
   "id": "61c4bac6-1849-4829-b272-802f2c7feb9f",
   "metadata": {},
   "outputs": [],
   "source": [
    "data = extract_seniority_as_column(data, 'Job Title')"
   ]
  },
  {
   "cell_type": "code",
   "execution_count": 178,
   "id": "17a7fec2-e29b-47b9-b7ca-fb834034ea16",
   "metadata": {},
   "outputs": [],
   "source": [
    "def extract_mid_seniority(data):\n",
    "    for row in data:\n",
    "        if row['Junior level'] == False and row['Senior level'] == False and row['Lead level'] == False:\n",
    "            row['Mid level'] = True\n",
    "        else:\n",
    "            row['Mid level'] = False\n",
    "    return data        "
   ]
  },
  {
   "cell_type": "code",
   "execution_count": 179,
   "id": "cb56f25a-144e-4714-88c4-5c3ba61067ea",
   "metadata": {
    "tags": []
   },
   "outputs": [],
   "source": [
    "data = extract_mid_seniority(data)"
   ]
  },
  {
   "cell_type": "markdown",
   "id": "340c64ca-25de-45f7-a066-ab95aecbfcf3",
   "metadata": {},
   "source": [
    "## Extract skills and education keywords"
   ]
  },
  {
   "cell_type": "code",
   "execution_count": 181,
   "id": "44450ce9-36d7-4166-8794-5c7fe8fdc8fe",
   "metadata": {},
   "outputs": [],
   "source": [
    "def extract_skills_as_columns(data, col):\n",
    "    skill_keywords = {'Excel required':'[\\W+]Excel[\\W+]', 'SQL required':'[\\W+]SQL[\\W+]','Python required':'[\\W+]Python[\\W+]','R required':'[\\W+]R[\\W+]','Tableau required':'[\\W+]Tableau[\\W+]',\n",
    "                      'PowerBI required':'[\\W+]Power[\\s*]BI[\\W+]'}\n",
    "    for new_header, pattern in skill_keywords.items():\n",
    "        data = extract_keyword_as_column(data, col, pattern, new_header)\n",
    "    return data    "
   ]
  },
  {
   "cell_type": "code",
   "execution_count": 182,
   "id": "d196f843-a9b8-49fd-a7e9-e9ed2d2e54c8",
   "metadata": {
    "tags": []
   },
   "outputs": [],
   "source": [
    "data = extract_skills_as_columns(data, 'Job Description')"
   ]
  },
  {
   "cell_type": "code",
   "execution_count": 183,
   "id": "15a1644d-066f-456f-aa25-591da4c78efe",
   "metadata": {},
   "outputs": [
    {
     "name": "stdout",
     "output_type": "stream",
     "text": [
      "Job Title:Data Analyst, Center on Immigration and Justice (CIJ)\n",
      "Salary Estimate:$37K-$66K (Glassdoor est.)\n",
      "Rating:3.2\n",
      "Company Name:Vera Institute of Justice\n",
      "Location:New York, NY\n",
      "Headquarters:New York, NY\n",
      "Size:201 to 500 employees\n",
      "Founded:1961\n",
      "Type of ownership:Nonprofit Organization\n",
      "Industry:Social Assistance\n",
      "Sector:Non-Profit\n",
      "Revenue:$100 to $500 million (USD)\n",
      "Competitors:NA\n",
      "Easy Apply:True\n",
      "Index:0\n",
      "Max size:500\n",
      "Min salary:37\n",
      "Max salary:66\n",
      "Average salary:51.5\n",
      "Junior level:False\n",
      "Senior level:False\n",
      "Lead level:False\n",
      "Mid level:True\n",
      "Excel required:False\n",
      "SQL required:True\n",
      "Python required:True\n",
      "R required:True\n",
      "Tableau required:False\n",
      "PowerBI required:False\n",
      "\n",
      "\n",
      "Job Title:Quality Data Analyst\n",
      "Salary Estimate:$37K-$66K (Glassdoor est.)\n",
      "Rating:3.8\n",
      "Company Name:Visiting Nurse Service of New York\n",
      "Location:New York, NY\n",
      "Headquarters:New York, NY\n",
      "Size:10000+ employees\n",
      "Founded:1893\n",
      "Type of ownership:Nonprofit Organization\n",
      "Industry:Health Care Services & Hospitals\n",
      "Sector:Health Care\n",
      "Revenue:$2 to $5 billion (USD)\n",
      "Competitors:NA\n",
      "Easy Apply:NA\n",
      "Index:1\n",
      "Max size:10000\n",
      "Min salary:37\n",
      "Max salary:66\n",
      "Average salary:51.5\n",
      "Junior level:False\n",
      "Senior level:False\n",
      "Lead level:False\n",
      "Mid level:True\n",
      "Excel required:True\n",
      "SQL required:True\n",
      "Python required:False\n",
      "R required:True\n",
      "Tableau required:False\n",
      "PowerBI required:False\n",
      "\n",
      "\n",
      "Job Title:Senior Data Analyst, Insights & Analytics Team [Customer Operations]\n",
      "Salary Estimate:$37K-$66K (Glassdoor est.)\n",
      "Rating:3.4\n",
      "Company Name:Squarespace\n",
      "Location:New York, NY\n",
      "Headquarters:New York, NY\n",
      "Size:1001 to 5000 employees\n",
      "Founded:2003\n",
      "Type of ownership:Company - Private\n",
      "Industry:Internet\n",
      "Sector:Information Technology\n",
      "Revenue:NA\n",
      "Competitors:GoDaddy\n",
      "Easy Apply:NA\n",
      "Index:2\n",
      "Max size:5000\n",
      "Min salary:37\n",
      "Max salary:66\n",
      "Average salary:51.5\n",
      "Junior level:False\n",
      "Senior level:False\n",
      "Lead level:False\n",
      "Mid level:True\n",
      "Excel required:True\n",
      "SQL required:True\n",
      "Python required:True\n",
      "R required:True\n",
      "Tableau required:True\n",
      "PowerBI required:False\n",
      "\n",
      "\n",
      "Job Title:Data Analyst\n",
      "Salary Estimate:$37K-$66K (Glassdoor est.)\n",
      "Rating:4.1\n",
      "Company Name:Celerity\n",
      "Location:New York, NY\n",
      "Headquarters:McLean, VA\n",
      "Size:201 to 500 employees\n",
      "Founded:2002\n",
      "Type of ownership:Subsidiary or Business Segment\n",
      "Industry:IT Services\n",
      "Sector:Information Technology\n",
      "Revenue:$50 to $100 million (USD)\n",
      "Competitors:NA\n",
      "Easy Apply:NA\n",
      "Index:3\n",
      "Max size:500\n",
      "Min salary:37\n",
      "Max salary:66\n",
      "Average salary:51.5\n",
      "Junior level:False\n",
      "Senior level:False\n",
      "Lead level:False\n",
      "Mid level:True\n",
      "Excel required:False\n",
      "SQL required:True\n",
      "Python required:False\n",
      "R required:False\n",
      "Tableau required:True\n",
      "PowerBI required:False\n",
      "\n",
      "\n",
      "Job Title:Reporting Data Analyst\n",
      "Salary Estimate:$37K-$66K (Glassdoor est.)\n",
      "Rating:3.9\n",
      "Company Name:FanDuel\n",
      "Location:New York, NY\n",
      "Headquarters:New York, NY\n",
      "Size:501 to 1000 employees\n",
      "Founded:2009\n",
      "Type of ownership:Company - Private\n",
      "Industry:Sports & Recreation\n",
      "Sector:Arts, Entertainment & Recreation\n",
      "Revenue:$100 to $500 million (USD)\n",
      "Competitors:DraftKings\n",
      "Easy Apply:True\n",
      "Index:4\n",
      "Max size:1000\n",
      "Min salary:37\n",
      "Max salary:66\n",
      "Average salary:51.5\n",
      "Junior level:False\n",
      "Senior level:False\n",
      "Lead level:False\n",
      "Mid level:True\n",
      "Excel required:True\n",
      "SQL required:True\n",
      "Python required:True\n",
      "R required:False\n",
      "Tableau required:False\n",
      "PowerBI required:False\n",
      "\n",
      "\n",
      "Job Title:Data Analyst\n",
      "Salary Estimate:$37K-$66K (Glassdoor est.)\n",
      "Rating:3.9\n",
      "Company Name:Point72\n",
      "Location:New York, NY\n",
      "Headquarters:Stamford, CT\n",
      "Size:1001 to 5000 employees\n",
      "Founded:2014\n",
      "Type of ownership:Company - Private\n",
      "Industry:Investment Banking & Asset Management\n",
      "Sector:Finance\n",
      "Revenue:NA\n",
      "Competitors:NA\n",
      "Easy Apply:NA\n",
      "Index:5\n",
      "Max size:5000\n",
      "Min salary:37\n",
      "Max salary:66\n",
      "Average salary:51.5\n",
      "Junior level:False\n",
      "Senior level:False\n",
      "Lead level:False\n",
      "Mid level:True\n",
      "Excel required:True\n",
      "SQL required:True\n",
      "Python required:True\n",
      "R required:False\n",
      "Tableau required:False\n",
      "PowerBI required:False\n",
      "\n",
      "\n",
      "Job Title:Business/Data Analyst (FP&A)\n",
      "Salary Estimate:$37K-$66K (Glassdoor est.)\n",
      "Rating:4.4\n",
      "Company Name:Two Sigma\n",
      "Location:New York, NY\n",
      "Headquarters:New York, NY\n",
      "Size:1001 to 5000 employees\n",
      "Founded:2001\n",
      "Type of ownership:Company - Private\n",
      "Industry:Investment Banking & Asset Management\n",
      "Sector:Finance\n",
      "Revenue:NA\n",
      "Competitors:NA\n",
      "Easy Apply:NA\n",
      "Index:6\n",
      "Max size:5000\n",
      "Min salary:37\n",
      "Max salary:66\n",
      "Average salary:51.5\n",
      "Junior level:False\n",
      "Senior level:False\n",
      "Lead level:False\n",
      "Mid level:True\n",
      "Excel required:True\n",
      "SQL required:True\n",
      "Python required:True\n",
      "R required:False\n",
      "Tableau required:False\n",
      "PowerBI required:False\n",
      "\n",
      "\n",
      "Job Title:Data Science Analyst\n",
      "Salary Estimate:$37K-$66K (Glassdoor est.)\n",
      "Rating:3.7\n",
      "Company Name:GNY Insurance Companies\n",
      "Location:New York, NY\n",
      "Headquarters:New York, NY\n",
      "Size:201 to 500 employees\n",
      "Founded:1914\n",
      "Type of ownership:Company - Private\n",
      "Industry:Insurance Carriers\n",
      "Sector:Insurance\n",
      "Revenue:$100 to $500 million (USD)\n",
      "Competitors:Travelers, Chubb, Crum & Forster\n",
      "Easy Apply:True\n",
      "Index:7\n",
      "Max size:500\n",
      "Min salary:37\n",
      "Max salary:66\n",
      "Average salary:51.5\n",
      "Junior level:False\n",
      "Senior level:False\n",
      "Lead level:False\n",
      "Mid level:True\n",
      "Excel required:False\n",
      "SQL required:True\n",
      "Python required:True\n",
      "R required:True\n",
      "Tableau required:False\n",
      "PowerBI required:False\n",
      "\n",
      "\n",
      "Job Title:Data Analyst\n",
      "Salary Estimate:$37K-$66K (Glassdoor est.)\n",
      "Rating:4\n",
      "Company Name:DMGT\n",
      "Location:New York, NY\n",
      "Headquarters:London, United Kingdom\n",
      "Size:5001 to 10000 employees\n",
      "Founded:1896\n",
      "Type of ownership:Company - Public\n",
      "Industry:Venture Capital & Private Equity\n",
      "Sector:Finance\n",
      "Revenue:$1 to $2 billion (USD)\n",
      "Competitors:Thomson Reuters, Hearst, Pearson\n",
      "Easy Apply:NA\n",
      "Index:8\n",
      "Max size:10000\n",
      "Min salary:37\n",
      "Max salary:66\n",
      "Average salary:51.5\n",
      "Junior level:False\n",
      "Senior level:False\n",
      "Lead level:False\n",
      "Mid level:True\n",
      "Excel required:True\n",
      "SQL required:True\n",
      "Python required:True\n",
      "R required:True\n",
      "Tableau required:False\n",
      "PowerBI required:False\n",
      "\n",
      "\n",
      "Job Title:Data Analyst, Merchant Health\n",
      "Salary Estimate:$37K-$66K (Glassdoor est.)\n",
      "Rating:4.4\n",
      "Company Name:Riskified\n",
      "Location:New York, NY\n",
      "Headquarters:New York, NY\n",
      "Size:501 to 1000 employees\n",
      "Founded:2013\n",
      "Type of ownership:Company - Private\n",
      "Industry:Research & Development\n",
      "Sector:Business Services\n",
      "Revenue:NA\n",
      "Competitors:Signifyd, Forter\n",
      "Easy Apply:NA\n",
      "Index:9\n",
      "Max size:1000\n",
      "Min salary:37\n",
      "Max salary:66\n",
      "Average salary:51.5\n",
      "Junior level:False\n",
      "Senior level:False\n",
      "Lead level:False\n",
      "Mid level:True\n",
      "Excel required:False\n",
      "SQL required:True\n",
      "Python required:True\n",
      "R required:True\n",
      "Tableau required:False\n",
      "PowerBI required:False\n",
      "\n",
      "\n"
     ]
    }
   ],
   "source": [
    "print_no_job_description(data)"
   ]
  },
  {
   "cell_type": "code",
   "execution_count": null,
   "id": "171c66ff-48c6-4c60-97ee-02b0e78c67f8",
   "metadata": {},
   "outputs": [],
   "source": [
    "def extract_education_as_columns(data, col):\n",
    "    skill_keywords = {'Bachelor':'[\\W+]Bachelor|BSc[\\W+]', 'Doctorate':'[\\W+]Doctor|PhD[\\W+]', 'Master':'[\\W+]Master|MSc[\\W+]'}\n",
    "    for new_header, pattern in skill_keywords.items():\n",
    "        data = extract_keyword_as_column(data, col, pattern, new_header)\n",
    "    return data    "
   ]
  },
  {
   "cell_type": "code",
   "execution_count": null,
   "id": "715384d4-ecbd-4664-9702-29c24e248760",
   "metadata": {},
   "outputs": [],
   "source": [
    "data = extract_education_as_columns(data, 'Job Description')"
   ]
  },
  {
   "cell_type": "markdown",
   "id": "b58366df-6204-4415-863a-07c658aae975",
   "metadata": {
    "tags": []
   },
   "source": [
    "## Count and handle missing values"
   ]
  },
  {
   "cell_type": "code",
   "execution_count": 184,
   "id": "4889ec95-1e6a-4637-ae05-6e42da710ac9",
   "metadata": {
    "tags": []
   },
   "outputs": [],
   "source": [
    "def count_missing_keys(data, col):\n",
    "    count_missing_keys = 0\n",
    "    for row in data:\n",
    "        if col not in row:\n",
    "            count_missing_keys += 1\n",
    "    return count_missing_keys        "
   ]
  },
  {
   "cell_type": "code",
   "execution_count": 185,
   "id": "9505fbe2-694b-47a6-903a-840cc520dd43",
   "metadata": {},
   "outputs": [],
   "source": [
    "def count_missing_keys_info(data):\n",
    "    all_headers = get_all_headers(data)\n",
    "    missing_info = {}\n",
    "    for header in all_headers:\n",
    "        missing_info[header] = count_missing_keys(data, header)\n",
    "    return missing_info    "
   ]
  },
  {
   "cell_type": "code",
   "execution_count": 186,
   "id": "d7f094fa-dd25-4c89-be97-5399d795a5fc",
   "metadata": {},
   "outputs": [
    {
     "data": {
      "text/plain": [
       "{'Excel required': 0,\n",
       " 'R required': 0,\n",
       " 'Industry': 0,\n",
       " 'Revenue': 0,\n",
       " 'Size': 0,\n",
       " 'Sector': 0,\n",
       " 'Max salary': 1,\n",
       " 'Competitors': 0,\n",
       " 'PowerBI required': 0,\n",
       " 'Headquarters': 0,\n",
       " 'Max size': 0,\n",
       " 'Mid level': 0,\n",
       " 'Founded': 0,\n",
       " 'Python required': 0,\n",
       " 'Rating': 0,\n",
       " 'Lead level': 0,\n",
       " 'Average salary': 1,\n",
       " 'Company Name': 0,\n",
       " 'Senior level': 0,\n",
       " 'Index': 0,\n",
       " 'Salary Estimate': 0,\n",
       " 'Job Description': 0,\n",
       " 'Easy Apply': 0,\n",
       " 'Min salary': 1,\n",
       " 'Tableau required': 0,\n",
       " 'Location': 0,\n",
       " 'Junior level': 0,\n",
       " 'Type of ownership': 0,\n",
       " 'SQL required': 0,\n",
       " 'Job Title': 0}"
      ]
     },
     "execution_count": 186,
     "metadata": {},
     "output_type": "execute_result"
    }
   ],
   "source": [
    "count_missing_keys_info(data)"
   ]
  },
  {
   "cell_type": "code",
   "execution_count": 187,
   "id": "e4b507ab-ad72-451b-ae6c-8beed8b0963b",
   "metadata": {},
   "outputs": [],
   "source": [
    "def replace_missing_keys_with_NA(data, col):\n",
    "    for row in data:\n",
    "        if col not in row:\n",
    "            row[col] = \"NA\"\n",
    "    return data        "
   ]
  },
  {
   "cell_type": "code",
   "execution_count": 188,
   "id": "b3b3841d-e8d1-43c9-93ce-6eebfecdd697",
   "metadata": {},
   "outputs": [],
   "source": [
    "data = replace_missing_keys_with_NA(data, 'Min salary')"
   ]
  },
  {
   "cell_type": "code",
   "execution_count": 189,
   "id": "497e4af8-ae80-436e-a82a-67403a440339",
   "metadata": {},
   "outputs": [],
   "source": [
    "data = replace_missing_keys_with_NA(data, 'Max salary')"
   ]
  },
  {
   "cell_type": "code",
   "execution_count": 190,
   "id": "6c2dcb95-af82-4cd6-9a57-0a8f6333b8d2",
   "metadata": {},
   "outputs": [],
   "source": [
    "data = replace_missing_keys_with_NA(data, 'Average salary')"
   ]
  },
  {
   "cell_type": "markdown",
   "id": "dc229186-9244-4651-9cd0-3c266b62db0f",
   "metadata": {
    "tags": []
   },
   "source": [
    "## Check the relevance of each column"
   ]
  },
  {
   "cell_type": "code",
   "execution_count": 191,
   "id": "ebf00bd4-483d-414b-8f23-c3060dab3f49",
   "metadata": {},
   "outputs": [],
   "source": [
    "def count_NA_values_for_specified_column(data, col):\n",
    "    count_invalid_data = 0 \n",
    "    for row in data:\n",
    "        if col not in row:\n",
    "            continue\n",
    "        if row[col] == 'NA':\n",
    "            count_invalid_data += 1\n",
    "    return count_invalid_data       "
   ]
  },
  {
   "cell_type": "code",
   "execution_count": 192,
   "id": "62d8d7a6-5aea-43b4-981b-e9818c889a48",
   "metadata": {},
   "outputs": [],
   "source": [
    "def count_NA_values(data):\n",
    "    all_headers = get_all_headers(data)\n",
    "    NA_values_per_column = {}\n",
    "    for header in all_headers:\n",
    "        NA_values_per_column[header] = count_NA_values_for_specified_column(data, header)\n",
    "    return NA_values_per_column"
   ]
  },
  {
   "cell_type": "code",
   "execution_count": 193,
   "id": "08194302-5ebb-466b-b659-9477f8507f87",
   "metadata": {},
   "outputs": [
    {
     "data": {
      "text/plain": [
       "{'Excel required': 0,\n",
       " 'R required': 0,\n",
       " 'Industry': 353,\n",
       " 'Revenue': 778,\n",
       " 'Size': 205,\n",
       " 'Sector': 353,\n",
       " 'Max salary': 1,\n",
       " 'Competitors': 1732,\n",
       " 'PowerBI required': 0,\n",
       " 'Headquarters': 172,\n",
       " 'Max size': 205,\n",
       " 'Mid level': 0,\n",
       " 'Founded': 660,\n",
       " 'Python required': 0,\n",
       " 'Rating': 272,\n",
       " 'Lead level': 0,\n",
       " 'Average salary': 1,\n",
       " 'Company Name': 1,\n",
       " 'Senior level': 0,\n",
       " 'Index': 0,\n",
       " 'Salary Estimate': 1,\n",
       " 'Job Description': 0,\n",
       " 'Easy Apply': 2173,\n",
       " 'Min salary': 1,\n",
       " 'Tableau required': 0,\n",
       " 'Location': 0,\n",
       " 'Junior level': 0,\n",
       " 'Type of ownership': 179,\n",
       " 'SQL required': 0,\n",
       " 'Job Title': 0}"
      ]
     },
     "execution_count": 193,
     "metadata": {},
     "output_type": "execute_result"
    }
   ],
   "source": [
    "count_NA_values(data)"
   ]
  },
  {
   "cell_type": "markdown",
   "id": "cf1ce478-5c6f-461f-830c-b54813313b50",
   "metadata": {
    "tags": []
   },
   "source": [
    "## Write data as a csv file"
   ]
  },
  {
   "cell_type": "code",
   "execution_count": null,
   "id": "7cdfda89-69c6-4046-8d66-2e54897ddef5",
   "metadata": {},
   "outputs": [],
   "source": [
    "def create_file(data):\n",
    "    result = []\n",
    "    for row in data:\n",
    "       \n",
    "            new_info = {}\n",
    "            new_info['Job title'] = row['Job Title']\n",
    "            new_info['Company name'] = row['Company Name']\n",
    "            new_info['Rating'] = row['Rating']\n",
    "            new_info['Location'] = row['Location']\n",
    "            new_info['Max size'] = row['Max size']\n",
    "            new_info['Founded'] = row['Founded']\n",
    "            new_info['Type of ownership'] = row['Type of ownership']\n",
    "            new_info['Industry'] = row['Industry']\n",
    "            new_info['Minimum estimated salary'] = row['Min salary']\n",
    "            new_info['Maximum estimated salary'] = row['Max salary']\n",
    "            new_info['Average estimated salary'] = row['Average salary']\n",
    "            new_info['Excel required'] = row['Excel required']\n",
    "            new_info['SQL required'] = row['SQL required']\n",
    "            new_info['R required'] = row['R required']\n",
    "            new_info['Python required'] = row['Python required']\n",
    "            new_info['Tableau required'] = row['Tableau required']\n",
    "            new_info['PowerBI required'] = row['PowerBI required']\n",
    "            new_info['Junior level'] = row['Junior level']\n",
    "            new_info['Mid level'] = row['Mid level']\n",
    "            new_info['Senior level'] = row['Senior level']\n",
    "            new_info['Lead level'] = row['Lead level']\n",
    "            new_info['Bachelor'] = row['Bachelor']\n",
    "            new_info['Master'] = row['Master']\n",
    "            new_info['Doctorate'] = row['Doctorate']\n",
    "            result.append(new_info)    \n",
    "    return result    "
   ]
  },
  {
   "cell_type": "code",
   "execution_count": null,
   "id": "dd962fd5-7191-4c0c-a313-62d9f60eff3d",
   "metadata": {},
   "outputs": [],
   "source": [
    "new_data = create_file(data)"
   ]
  },
  {
   "cell_type": "code",
   "execution_count": null,
   "id": "62e2da18-67ba-4041-b1d0-3a1265c3dfc6",
   "metadata": {},
   "outputs": [],
   "source": [
    "print(len(data))\n",
    "print(len(new_data))"
   ]
  },
  {
   "cell_type": "code",
   "execution_count": null,
   "id": "5b556848-afee-46da-8556-36751e3cb7db",
   "metadata": {},
   "outputs": [],
   "source": [
    "# write output to csv file\n",
    "def write_as_csv(new_data):\n",
    "    \n",
    "    file = open('data_analyst_modified.csv', 'w', newline='', encoding=\"utf8\")\n",
    "    dict_writer = csv.DictWriter(file, fieldnames=['Job title','Company name', 'Max size','Rating', 'Location', 'Founded','Type of ownership','Industry', 'Minimum estimated salary',\n",
    "                                                   'Maximum estimated salary','Average estimated salary', 'Excel required', 'SQL required', 'R required', 'Python required','Tableau required', \n",
    "                                                   'PowerBI required', 'Junior level', 'Mid level','Senior level','Lead level','Bachelor', 'Master','Doctorate'])\n",
    "    dict_writer.writeheader()\n",
    "    for row in new_data:\n",
    "        dict_writer.writerow(row)\n",
    "    file.close()"
   ]
  },
  {
   "cell_type": "code",
   "execution_count": null,
   "id": "68e16fe8-44c7-48a5-ab2e-7ae5c42449fd",
   "metadata": {},
   "outputs": [],
   "source": [
    "write_as_csv(new_data)"
   ]
  },
  {
   "cell_type": "code",
   "execution_count": null,
   "id": "700cdf40-0f3d-4bca-a0ea-8185d9ad31f0",
   "metadata": {},
   "outputs": [],
   "source": []
  }
 ],
 "metadata": {
  "kernelspec": {
   "display_name": "Python 3 (ipykernel)",
   "language": "python",
   "name": "python3"
  },
  "language_info": {
   "codemirror_mode": {
    "name": "ipython",
    "version": 3
   },
   "file_extension": ".py",
   "mimetype": "text/x-python",
   "name": "python",
   "nbconvert_exporter": "python",
   "pygments_lexer": "ipython3",
   "version": "3.10.9"
  }
 },
 "nbformat": 4,
 "nbformat_minor": 5
}
